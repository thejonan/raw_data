{
 "cells": [
  {
   "cell_type": "markdown",
   "source": [
    "## Baby boomers ageing\n",
    "Visualization of the demographical \"movement\" through ages of the baby-boomers phenomenon in Europe."
   ],
   "metadata": {
    "collapsed": false,
    "pycharm": {
     "name": "#%% md\n"
    }
   }
  },
  {
   "cell_type": "code",
   "source": [
    "# Libs & data import\n",
    "import pandas as pd\n",
    "import re\n",
    "import io\n",
    "import imageio as img\n",
    "import numpy as np\n",
    "import matplotlib.pyplot as plt\n",
    "\n",
    "df_raw = pd.read_csv('data/demo_pjan.tsv', delimiter='[\\t,]+')\n",
    "df_raw.rename(columns={ \"geo\\\\time\": \"region\" }, inplace=True)\n",
    "\n",
    "print(f'{len(df_raw)} total records read.')\n",
    "print(f'Countries/regions:{df_raw.region.unique()}')"
   ],
   "metadata": {
    "collapsed": false,
    "pycharm": {
     "name": "#%%\n"
    }
   },
   "execution_count": 2,
   "outputs": [
    {
     "name": "stderr",
     "output_type": "stream",
     "text": [
      "/Users/jonan/.conda/envs/py37-simple/lib/python3.7/site-packages/ipykernel_launcher.py:9: ParserWarning: Falling back to the 'python' engine because the 'c' engine does not support regex separators (separators > 1 char and different from '\\s+' are interpreted as regex); you can avoid this warning by specifying engine='python'.\n",
      "  if __name__ == '__main__':\n"
     ]
    },
    {
     "name": "stdout",
     "output_type": "stream",
     "text": [
      "17529 total records read.\n",
      "Countries/regions:['AD' 'AL' 'AM' 'AT' 'AZ' 'BA' 'BE' 'BG' 'BY' 'CH' 'CY' 'CZ' 'DE' 'DE_TOT'\n",
      " 'DK' 'EA18' 'EA19' 'EE' 'EEA30_2007' 'EEA31' 'EFTA' 'EL' 'ES' 'EU27_2007'\n",
      " 'EU27_2020' 'EU28' 'FI' 'FR' 'FX' 'GE' 'HR' 'HU' 'IE' 'IS' 'IT' 'LI' 'LT'\n",
      " 'LU' 'LV' 'MC' 'MD' 'ME' 'MK' 'MT' 'NL' 'NO' 'PL' 'PT' 'RO' 'RS' 'RU'\n",
      " 'SE' 'SI' 'SK' 'SM' 'TR' 'UA' 'UK' 'XK']\n"
     ]
    }
   ]
  },
  {
   "cell_type": "markdown",
   "source": [
    "### Data filtering & cleanup\n",
    "\n",
    "Leave only the desired part of the data - region, gender, etc.\n",
    "There are symbols like `e` and/or `p` in the numeric data. Clean those up, as well."
   ],
   "metadata": {
    "collapsed": false,
    "pycharm": {
     "name": "#%% md\n"
    }
   }
  },
  {
   "cell_type": "code",
   "execution_count": 5,
   "outputs": [
    {
     "name": "stdout",
     "output_type": "stream",
     "text": [
      "Years:['2019', '2018', '2017', '2016', '2015', '2014', '2013', '2012', '2011', '2010', '2009', '2008', '2007', '2006', '2005', '2004', '2003', '2002', '2001', '2000', '1999', '1998', '1997', '1996', '1995', '1994', '1993', '1992', '1991', '1990', '1989', '1988', '1987', '1986', '1985', '1984', '1983', '1982', '1981', '1980', '1979', '1978', '1977', '1976', '1975', '1974', '1973', '1972', '1971', '1970', '1969', '1968', '1967', '1966', '1965', '1964', '1963', '1962', '1961', '1960']\n"
     ]
    },
    {
     "data": {
      "text/plain": "    age     2019     2018     2017     2016     2015     2014       2013  \\\n0     1  5037194  5099349  5079469  5098572  5049528  5153428  5188922.0   \n1     2  5137604  5109130  5137505  5080994  5179908  5219696  5317380.0   \n2     3  5141980  5168164  5114535  5219009  5244147  5351795  5351059.0   \n3     4  5198152  5151040  5252134  5279610  5375443  5384196  5413283.0   \n4     5  5176355  5277602  5306099  5413361  5407084  5448645  5315752.0   \n..  ...      ...      ...      ...      ...      ...      ...        ...   \n94   95   343234   335240   333794   311263   236598   184790        0.0   \n95   96   252320   250542   237066   177609   140599   135405        0.0   \n96   97   185011   173547   133073   102217   100464   102342        0.0   \n97   98   126427    95453    74538    71164    73579    82126        0.0   \n98   99    67499    52808    50833    50597    57692    67113        0.0   \n\n         2012       2011  ...  1969  1968  1967  1966  1965  1964  1963  1962  \\\n0   5299636.0  5316177.0  ...   0.0   0.0   0.0   0.0   0.0   0.0   0.0   0.0   \n1   5331664.0  5385111.0  ...   0.0   0.0   0.0   0.0   0.0   0.0   0.0   0.0   \n2   5394254.0  5286789.0  ...   0.0   0.0   0.0   0.0   0.0   0.0   0.0   0.0   \n3   5298156.0  5237756.0  ...   0.0   0.0   0.0   0.0   0.0   0.0   0.0   0.0   \n4   5253675.0  5165227.0  ...   0.0   0.0   0.0   0.0   0.0   0.0   0.0   0.0   \n..        ...        ...  ...   ...   ...   ...   ...   ...   ...   ...   ...   \n94        0.0        0.0  ...   0.0   0.0   0.0   0.0   0.0   0.0   0.0   0.0   \n95        0.0        0.0  ...   0.0   0.0   0.0   0.0   0.0   0.0   0.0   0.0   \n96        0.0        0.0  ...   0.0   0.0   0.0   0.0   0.0   0.0   0.0   0.0   \n97        0.0        0.0  ...   0.0   0.0   0.0   0.0   0.0   0.0   0.0   0.0   \n98        0.0        0.0  ...   0.0   0.0   0.0   0.0   0.0   0.0   0.0   0.0   \n\n    1961  1960  \n0    0.0   0.0  \n1    0.0   0.0  \n2    0.0   0.0  \n3    0.0   0.0  \n4    0.0   0.0  \n..   ...   ...  \n94   0.0   0.0  \n95   0.0   0.0  \n96   0.0   0.0  \n97   0.0   0.0  \n98   0.0   0.0  \n\n[99 rows x 61 columns]",
      "text/html": "<div>\n<style scoped>\n    .dataframe tbody tr th:only-of-type {\n        vertical-align: middle;\n    }\n\n    .dataframe tbody tr th {\n        vertical-align: top;\n    }\n\n    .dataframe thead th {\n        text-align: right;\n    }\n</style>\n<table border=\"1\" class=\"dataframe\">\n  <thead>\n    <tr style=\"text-align: right;\">\n      <th></th>\n      <th>age</th>\n      <th>2019</th>\n      <th>2018</th>\n      <th>2017</th>\n      <th>2016</th>\n      <th>2015</th>\n      <th>2014</th>\n      <th>2013</th>\n      <th>2012</th>\n      <th>2011</th>\n      <th>...</th>\n      <th>1969</th>\n      <th>1968</th>\n      <th>1967</th>\n      <th>1966</th>\n      <th>1965</th>\n      <th>1964</th>\n      <th>1963</th>\n      <th>1962</th>\n      <th>1961</th>\n      <th>1960</th>\n    </tr>\n  </thead>\n  <tbody>\n    <tr>\n      <th>0</th>\n      <td>1</td>\n      <td>5037194</td>\n      <td>5099349</td>\n      <td>5079469</td>\n      <td>5098572</td>\n      <td>5049528</td>\n      <td>5153428</td>\n      <td>5188922.0</td>\n      <td>5299636.0</td>\n      <td>5316177.0</td>\n      <td>...</td>\n      <td>0.0</td>\n      <td>0.0</td>\n      <td>0.0</td>\n      <td>0.0</td>\n      <td>0.0</td>\n      <td>0.0</td>\n      <td>0.0</td>\n      <td>0.0</td>\n      <td>0.0</td>\n      <td>0.0</td>\n    </tr>\n    <tr>\n      <th>1</th>\n      <td>2</td>\n      <td>5137604</td>\n      <td>5109130</td>\n      <td>5137505</td>\n      <td>5080994</td>\n      <td>5179908</td>\n      <td>5219696</td>\n      <td>5317380.0</td>\n      <td>5331664.0</td>\n      <td>5385111.0</td>\n      <td>...</td>\n      <td>0.0</td>\n      <td>0.0</td>\n      <td>0.0</td>\n      <td>0.0</td>\n      <td>0.0</td>\n      <td>0.0</td>\n      <td>0.0</td>\n      <td>0.0</td>\n      <td>0.0</td>\n      <td>0.0</td>\n    </tr>\n    <tr>\n      <th>2</th>\n      <td>3</td>\n      <td>5141980</td>\n      <td>5168164</td>\n      <td>5114535</td>\n      <td>5219009</td>\n      <td>5244147</td>\n      <td>5351795</td>\n      <td>5351059.0</td>\n      <td>5394254.0</td>\n      <td>5286789.0</td>\n      <td>...</td>\n      <td>0.0</td>\n      <td>0.0</td>\n      <td>0.0</td>\n      <td>0.0</td>\n      <td>0.0</td>\n      <td>0.0</td>\n      <td>0.0</td>\n      <td>0.0</td>\n      <td>0.0</td>\n      <td>0.0</td>\n    </tr>\n    <tr>\n      <th>3</th>\n      <td>4</td>\n      <td>5198152</td>\n      <td>5151040</td>\n      <td>5252134</td>\n      <td>5279610</td>\n      <td>5375443</td>\n      <td>5384196</td>\n      <td>5413283.0</td>\n      <td>5298156.0</td>\n      <td>5237756.0</td>\n      <td>...</td>\n      <td>0.0</td>\n      <td>0.0</td>\n      <td>0.0</td>\n      <td>0.0</td>\n      <td>0.0</td>\n      <td>0.0</td>\n      <td>0.0</td>\n      <td>0.0</td>\n      <td>0.0</td>\n      <td>0.0</td>\n    </tr>\n    <tr>\n      <th>4</th>\n      <td>5</td>\n      <td>5176355</td>\n      <td>5277602</td>\n      <td>5306099</td>\n      <td>5413361</td>\n      <td>5407084</td>\n      <td>5448645</td>\n      <td>5315752.0</td>\n      <td>5253675.0</td>\n      <td>5165227.0</td>\n      <td>...</td>\n      <td>0.0</td>\n      <td>0.0</td>\n      <td>0.0</td>\n      <td>0.0</td>\n      <td>0.0</td>\n      <td>0.0</td>\n      <td>0.0</td>\n      <td>0.0</td>\n      <td>0.0</td>\n      <td>0.0</td>\n    </tr>\n    <tr>\n      <th>...</th>\n      <td>...</td>\n      <td>...</td>\n      <td>...</td>\n      <td>...</td>\n      <td>...</td>\n      <td>...</td>\n      <td>...</td>\n      <td>...</td>\n      <td>...</td>\n      <td>...</td>\n      <td>...</td>\n      <td>...</td>\n      <td>...</td>\n      <td>...</td>\n      <td>...</td>\n      <td>...</td>\n      <td>...</td>\n      <td>...</td>\n      <td>...</td>\n      <td>...</td>\n      <td>...</td>\n    </tr>\n    <tr>\n      <th>94</th>\n      <td>95</td>\n      <td>343234</td>\n      <td>335240</td>\n      <td>333794</td>\n      <td>311263</td>\n      <td>236598</td>\n      <td>184790</td>\n      <td>0.0</td>\n      <td>0.0</td>\n      <td>0.0</td>\n      <td>...</td>\n      <td>0.0</td>\n      <td>0.0</td>\n      <td>0.0</td>\n      <td>0.0</td>\n      <td>0.0</td>\n      <td>0.0</td>\n      <td>0.0</td>\n      <td>0.0</td>\n      <td>0.0</td>\n      <td>0.0</td>\n    </tr>\n    <tr>\n      <th>95</th>\n      <td>96</td>\n      <td>252320</td>\n      <td>250542</td>\n      <td>237066</td>\n      <td>177609</td>\n      <td>140599</td>\n      <td>135405</td>\n      <td>0.0</td>\n      <td>0.0</td>\n      <td>0.0</td>\n      <td>...</td>\n      <td>0.0</td>\n      <td>0.0</td>\n      <td>0.0</td>\n      <td>0.0</td>\n      <td>0.0</td>\n      <td>0.0</td>\n      <td>0.0</td>\n      <td>0.0</td>\n      <td>0.0</td>\n      <td>0.0</td>\n    </tr>\n    <tr>\n      <th>96</th>\n      <td>97</td>\n      <td>185011</td>\n      <td>173547</td>\n      <td>133073</td>\n      <td>102217</td>\n      <td>100464</td>\n      <td>102342</td>\n      <td>0.0</td>\n      <td>0.0</td>\n      <td>0.0</td>\n      <td>...</td>\n      <td>0.0</td>\n      <td>0.0</td>\n      <td>0.0</td>\n      <td>0.0</td>\n      <td>0.0</td>\n      <td>0.0</td>\n      <td>0.0</td>\n      <td>0.0</td>\n      <td>0.0</td>\n      <td>0.0</td>\n    </tr>\n    <tr>\n      <th>97</th>\n      <td>98</td>\n      <td>126427</td>\n      <td>95453</td>\n      <td>74538</td>\n      <td>71164</td>\n      <td>73579</td>\n      <td>82126</td>\n      <td>0.0</td>\n      <td>0.0</td>\n      <td>0.0</td>\n      <td>...</td>\n      <td>0.0</td>\n      <td>0.0</td>\n      <td>0.0</td>\n      <td>0.0</td>\n      <td>0.0</td>\n      <td>0.0</td>\n      <td>0.0</td>\n      <td>0.0</td>\n      <td>0.0</td>\n      <td>0.0</td>\n    </tr>\n    <tr>\n      <th>98</th>\n      <td>99</td>\n      <td>67499</td>\n      <td>52808</td>\n      <td>50833</td>\n      <td>50597</td>\n      <td>57692</td>\n      <td>67113</td>\n      <td>0.0</td>\n      <td>0.0</td>\n      <td>0.0</td>\n      <td>...</td>\n      <td>0.0</td>\n      <td>0.0</td>\n      <td>0.0</td>\n      <td>0.0</td>\n      <td>0.0</td>\n      <td>0.0</td>\n      <td>0.0</td>\n      <td>0.0</td>\n      <td>0.0</td>\n      <td>0.0</td>\n    </tr>\n  </tbody>\n</table>\n<p>99 rows × 61 columns</p>\n</div>"
     },
     "execution_count": 5,
     "metadata": {},
     "output_type": "execute_result"
    }
   ],
   "source": [
    "# Choose a region or a set of such to be used for the graphics.\n",
    "REGIONS = ['EU27_2007']\n",
    "\n",
    "# Choose gender here - 'F', 'M' or 'T' -> total. Sorry, stats is two-gendered...\n",
    "SEX = 'T'\n",
    "\n",
    "df_clean = df_raw[(df_raw.region.isin(REGIONS))\n",
    "                  & (df_raw.sex == SEX)\n",
    "                  & (~df_raw.age.isin(['TOTAL', 'UNK']))].copy()\n",
    "\n",
    "df_clean.rename(columns=lambda x: x.strip(), inplace=True)\n",
    "\n",
    "YEARS = list(filter(re.compile(r'\\d+').search, df_clean.columns))\n",
    "print(f'Years:{YEARS}')\n",
    "\n",
    "for y in YEARS:\n",
    "    df_clean[y] = pd.to_numeric(df_clean[y].str.replace('[^\\d]+', ''), errors='coerce')\n",
    "\n",
    "df_clean.fillna(.0, inplace=True)\n",
    "df_clean = df_clean.groupby(by='age', as_index=False).sum()\n",
    "\n",
    "# Clean the age column\n",
    "df_clean.age = df_clean.age.str.replace(r'Y_?', '')\n",
    "df_clean = df_clean[df_clean.age.str.isnumeric()]\n",
    "df_clean.age = pd.to_numeric(df_clean.age)\n",
    "\n",
    "df_clean.sort_values(by='age', inplace=True)\n",
    "df_clean = df_clean.reset_index(drop=True)\n",
    "\n",
    "df_clean"
   ],
   "metadata": {
    "collapsed": false,
    "pycharm": {
     "name": "#%%\n"
    }
   }
  },
  {
   "cell_type": "markdown",
   "source": [
    "### Now, finally, do some plotting"
   ],
   "metadata": {
    "collapsed": false,
    "pycharm": {
     "name": "#%% md\n"
    }
   }
  },
  {
   "cell_type": "code",
   "execution_count": 6,
   "outputs": [
    {
     "data": {
      "text/plain": "<Figure size 1008x720 with 1 Axes>",
      "image/png": "[encoded data removed]"
     },
     "metadata": {
      "needs_background": "light"
     },
     "output_type": "display_data"
    }
   ],
   "source": [
    "PLOT_RANGE = range(1993, 2020, 1)\n",
    "FRACTION = 500000\n",
    "MAX_POP = int(np.ceil(df_clean[YEARS].max().max() / FRACTION)) * FRACTION + 2\n",
    "NUM_RANGE = range(0, MAX_POP, FRACTION)\n",
    "AGE_RANGE = range(0, 100, 10)\n",
    "DPI = 72\n",
    "\n",
    "fig = plt.figure(figsize=(14,10), dpi=DPI)\n",
    "plt.style.use('fivethirtyeight')\n",
    "\n",
    "all_frames = []\n",
    "\n",
    "for year in PLOT_RANGE:\n",
    "    plt.title('%s demographics, year %d' % (','.join(REGIONS), year))\n",
    "    plt.yticks(NUM_RANGE, [ '%.1fm' % (n / 1000000) for n in NUM_RANGE])\n",
    "    plt.ylabel('Population')\n",
    "    plt.xticks(AGE_RANGE, [ f'%dy' % n for n in AGE_RANGE])\n",
    "    plt.xlabel('Age')\n",
    "    plt.ylim(0, MAX_POP)\n",
    "    plt.plot(df_clean[str(year)])\n",
    "\n",
    "    io_buf = io.BytesIO()\n",
    "    fig.savefig(io_buf, format='raw', dpi=DPI)\n",
    "    io_buf.seek(0)\n",
    "    img_arr = np.reshape(np.frombuffer(io_buf.getvalue(), dtype=np.uint8),\n",
    "                         newshape=(int(fig.bbox.bounds[3]), int(fig.bbox.bounds[2]), -1))\n",
    "    io_buf.close()\n",
    "\n",
    "    all_frames.append(img_arr)\n",
    "\n",
    "    plt.cla()\n",
    "\n",
    "# Finally, save them all!\n",
    "img.mimwrite('data/aging.gif', all_frames, format='GIF-PIL', fps=2, loop=1)"
   ],
   "metadata": {
    "collapsed": false,
    "pycharm": {
     "name": "#%%\n"
    }
   }
  }
 ],
 "metadata": {
  "kernelspec": {
   "display_name": "Python 3",
   "language": "python",
   "name": "python3"
  },
  "language_info": {
   "codemirror_mode": {
    "name": "ipython",
    "version": 2
   },
   "file_extension": ".py",
   "mimetype": "text/x-python",
   "name": "python",
   "nbconvert_exporter": "python",
   "pygments_lexer": "ipython2",
   "version": "2.7.6"
  }
 },
 "nbformat": 4,
 "nbformat_minor": 0
}